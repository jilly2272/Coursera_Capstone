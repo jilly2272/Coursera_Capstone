{
    "cells": [
        {
            "cell_type": "markdown",
            "metadata": {
                "collapsed": true
            },
            "source": "# Capstone Project Report: Best Location to Open a Hotel in London"
        },
        {
            "cell_type": "markdown",
            "metadata": {},
            "source": "### Introduction/Business Problem"
        },
        {
            "cell_type": "markdown",
            "metadata": {},
            "source": "My stakeholders are startup business owners trying to find the best location for a hotel in London. London is a hub for tourism and business, and so there is great potential to be successful with a well located hotel. However, because it is such a big city, there are many factors involved in choosing the best location. My goal to to analyse London location data to choose the best neighbourhood for a hotel to be built in.\n\n**To summarise, my problem to solve is \"what is the best location (borough) to open a hotel in London?\"**"
        },
        {
            "cell_type": "markdown",
            "metadata": {},
            "source": "### Data"
        },
        {
            "cell_type": "markdown",
            "metadata": {},
            "source": "Opening a hotel means satisfying many location factors that may drastically affect the number of customers you will receive. For example, the hotel should be in a low-crime area, should be near transportation and should be near the centre of London so that they are near to tourist attractions/bars/theatres. These are the three main factors that I will be analysing so that the best location can be chosen. I have chosen these because no customer wants to feel unsafe getting to the hotel, customers want to be able to get to the hotel easily and to get into the city easily, and tourists generally want to explore London's popular attractions, bars and theatres. The venues and transportation data will be curated from the Foursquare API, while the crime data has been taken from the UK Government. The extraction of this data can be found in the \"Best Location to Open a Hotel in London Code\" notebook on the Github Repository. With this data, I will try to find the borough with the lowest crime rates, near the most transportation, and the best located to be near tourist attractions, bars and theatres."
        },
        {
            "cell_type": "code",
            "execution_count": null,
            "metadata": {},
            "outputs": [],
            "source": ""
        }
    ],
    "metadata": {
        "kernelspec": {
            "display_name": "Python 3.6",
            "language": "python",
            "name": "python3"
        },
        "language_info": {
            "codemirror_mode": {
                "name": "ipython",
                "version": 3
            },
            "file_extension": ".py",
            "mimetype": "text/x-python",
            "name": "python",
            "nbconvert_exporter": "python",
            "pygments_lexer": "ipython3",
            "version": "3.6.9"
        }
    },
    "nbformat": 4,
    "nbformat_minor": 1
}