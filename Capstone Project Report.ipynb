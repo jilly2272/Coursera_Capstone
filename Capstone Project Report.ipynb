{
    "cells": [
        {
            "cell_type": "markdown",
            "metadata": {
                "collapsed": true
            },
            "source": "# Capstone Project Report: Best Location to Open a Hotel in London"
        },
        {
            "cell_type": "markdown",
            "metadata": {},
            "source": "## Table of Contents"
        },
        {
            "cell_type": "markdown",
            "metadata": {},
            "source": "1. [Introduction/Business Problem](#Introduction/Business-Problem)\n2. [Data](#Data)\n3. [Methodology](#Methodology)\n4. [Results](#Results)\n5. [Discussion](#Discussion)\n6. [Conclusion](#Conclusion)"
        },
        {
            "cell_type": "markdown",
            "metadata": {},
            "source": "### Introduction/Business Problem"
        },
        {
            "cell_type": "markdown",
            "metadata": {},
            "source": "My stakeholders are startup business owners trying to find the best location for a hotel in London, England.\n\nLondon is a hub for tourism and business, and so there is great potential to be successful with a well located hotel.\n\nHowever, because it is such a big city, there are many factors involved in choosing the best location.\n\nMy goal to to analyse London location data to choose the best borough for a hotel to be built in.\n\n**To summarise, my problem to solve is \"what is the best location (borough) to open a hotel in London?\"**"
        },
        {
            "cell_type": "markdown",
            "metadata": {},
            "source": "### Data"
        },
        {
            "cell_type": "markdown",
            "metadata": {},
            "source": "Opening a hotel means satisfying many location factors that may drastically affect the number of customers that attend.\n\nFor example, the hotel should be in a low-crime area, should be near transportation and should be near restaurants, bars and theatres. Tourists will also want to be nearer central London to explore the area, so the distance of the borough from central London will also be taken into account. These are the four main factors that I will be analysing so that the best location can be chosen.\n\nI have chosen these because no customer wants to feel unsafe getting to the hotel, customers want to be able to get to the hotel easily and to get into the city easily, and tourists generally want to explore London's popular restaurants, bars and theatres.\n\nThe venues and transportation data will be curated from the **Foursquare API**, while the crime data has been taken from the **UK Government**. The extraction of this data can be found in the \"Best Location to Open a Hotel in London Code\" notebook on the Github Repository.\n\n**With this data, I will try to find the borough with the lowest crime rates, near transportation, near central London and the best location to be near restaurants, bars and theatres.**"
        },
        {
            "cell_type": "markdown",
            "metadata": {},
            "source": "### Methodology"
        },
        {
            "cell_type": "markdown",
            "metadata": {},
            "source": "To reiterate, in this project I will be finding the best location for a hotel to open in London based on crime rates, access to transportation, how close to central London it is and access to restaurants, bars and theatres.\n\nStep 1 is to collate the data together by cleaning up the UK Government Data with totals of the crimes in each borough, the distance of the boroughs from central London and by finding the location data of the various venue categories in London and grouping them by borough.\n\nStep 2 is to compare the data of crime, distance from London and the venues visually through the use of Folium and graphs. Folium will be used to visualise the density of venues in the borough, thus making it a better location for a hotel. The graphs meanwhile will visualise the lowest crime rates and the closest distance from London.\n\nStep 3, will be analysing the data which will be done in the 'Results' section below. The results will explore which were the best in each factor analysed and in the 'Discussion' section a reccommendation will be made on the best location to open a hotel."
        },
        {
            "cell_type": "markdown",
            "metadata": {},
            "source": "### Results"
        },
        {
            "cell_type": "markdown",
            "metadata": {},
            "source": "To make an accurate recommendation for a location, the analysis will focus on the top 10 boroughs per factor (crime, distance, venues):\n\nStarting with the crime rates category, the boroughs with lowest categories are: Kingston upon Thamse, Richmond upon Thames, Sutton, Merton, Harrow, Bexley, Harvering, Barking and Dagenham, Hammersmith and Fullham, and finally Kensington and Chelsea.\n\nThe top 10 boroughs closest to Central London in asceding order are: Westminster, Southwark, Islington, Kensington and Chelsea, Lambeth, Tower Hamlets, Hammersmith and Fullham, Wandsworth, Hackney and Haringey.\n\nAlthough crime and distance from london are negatively correlated, showing that the farther away from Central London you are the lower the crime rates, however it is a very weak correlation. The R-Squared value with the outlier of Westminster is 0.235 (3 s.f.), and 0.150 without the outlier. Because of this, we can't simply choose a location solely on crime or distance, and must instead take both into account.\n\nIn this instance, there are two candidates that stand out for best location: Kensington and Chelsea (No. 10 lowest crime, No. 4 closest to central London) & Hammersmith and Fullham(No. 9 lowest crime, No. 8 closest to central London).\n\nAt this point we need to find the density of venues per borough. Due to the limitations of a standard package from Foursquare API, only a certain number of venues could be collected within a radius of 1000 meters without exceeding it's standard package limits. Even so however, our data still reflects the density of venues we found (transport, restaurants, bars/pubs and theaters) amongst other venues and so our data is still valid and useful. In this instance, Kensington and Chelsea have a very similar density to Hammersmith and Fullham (12 vs 13 respectively). These are small numbers, however they can be extrapolated to the full size of the borough. For example, Kensington and Chelsea is 12.12 km\u00b2 while Hammersmith and Fullham is 16.39 km\u00b2. Most likely therefore, Hammersmith and Fullham would have many venues since it is a considerably larger borough. Interestingly however, neither of Kensington and Chelsea or Hammersmith and Fullham have any transportation - which could be an issue. However, because they are within the top 10 of distance to Central London, if customers decide to walk it could help. Again, it's important to reiterate however that the Foursquare API limited the number of venues that could be collected."
        },
        {
            "cell_type": "markdown",
            "metadata": {},
            "source": "### Discussion"
        },
        {
            "cell_type": "markdown",
            "metadata": {},
            "source": "Based on these results, the choice is essentially between Kensington and Chelsea & Hammersmith and Fullham, which would mean that the stakeholder could decide where to open based on what factor they value more highly. \n\n**If they value location more, then I would recommend Kensington and Chelsea. However if they value a higer density of useful venues, then I would recommend Hammersmith and Fullham.**"
        },
        {
            "cell_type": "markdown",
            "metadata": {},
            "source": "### Conclusion"
        },
        {
            "cell_type": "markdown",
            "metadata": {},
            "source": "Based on the data collected, Kensington and Chelsea or Hammersmith and Fullham would be a great choice of location for the opening of a hotel. In terms of further research, it would be interesting to look at the cost of living in all of the boroughs to figure out which would be the cheapest to open up. Start up businesses need to cut costs wherever possible, so just because the other factors are met, doesn't mean it's the most ideal in terms of price. On top of this, if a more premium version of Foursquare API could be used to find venues within the borders of each borough and collect all relevant data, this analysis would be more accurate and thus the recommendation would be more correct and informed."
        }
    ],
    "metadata": {
        "kernelspec": {
            "display_name": "Python 3.6",
            "language": "python",
            "name": "python3"
        },
        "language_info": {
            "codemirror_mode": {
                "name": "ipython",
                "version": 3
            },
            "file_extension": ".py",
            "mimetype": "text/x-python",
            "name": "python",
            "nbconvert_exporter": "python",
            "pygments_lexer": "ipython3",
            "version": "3.6.9"
        }
    },
    "nbformat": 4,
    "nbformat_minor": 1
}